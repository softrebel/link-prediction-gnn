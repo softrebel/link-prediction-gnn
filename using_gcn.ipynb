{
 "cells": [
  {
   "cell_type": "code",
   "execution_count": 1,
   "metadata": {},
   "outputs": [],
   "source": [
    "import stellargraph as sg\n",
    "from stellargraph.data import EdgeSplitter\n",
    "from stellargraph.mapper import FullBatchLinkGenerator\n",
    "from stellargraph.layer import GCN, LinkEmbedding\n",
    "\n",
    "\n",
    "from tensorflow import keras\n",
    "from sklearn import preprocessing, feature_extraction, model_selection\n",
    "\n",
    "from stellargraph import globalvar\n",
    "from stellargraph import datasets\n",
    "from IPython.display import display, HTML\n",
    "%matplotlib inline"
   ]
  },
  {
   "cell_type": "code",
   "execution_count": 99,
   "metadata": {},
   "outputs": [],
   "source": [
    "from utils import load_twitter_graph_with_feature\n",
    "\n",
    "G=load_twitter_graph_with_feature()"
   ]
  },
  {
   "cell_type": "code",
   "execution_count": 102,
   "metadata": {},
   "outputs": [
    {
     "name": "stdout",
     "output_type": "stream",
     "text": [
      "StellarGraph: Undirected multigraph\n",
      " Nodes: 23370, Edges: 32831\n",
      "\n",
      " Node types:\n",
      "  default: [23370]\n",
      "    Features: float32 vector, length 23370\n",
      "    Edge types: default-default->default\n",
      "\n",
      " Edge types:\n",
      "    default-default->default: [32831]\n",
      "        Weights: all 1 (default)\n",
      "        Features: none\n"
     ]
    }
   ],
   "source": [
    "print(G.info())"
   ]
  },
  {
   "cell_type": "code",
   "execution_count": 105,
   "metadata": {},
   "outputs": [
    {
     "name": "stdout",
     "output_type": "stream",
     "text": [
      "** Sampled 3283 positive and 3283 negative edges. **\n"
     ]
    }
   ],
   "source": [
    "\n",
    "edge_splitter_test = EdgeSplitter(G)\n",
    "\n",
    "\n",
    "G_test, edge_ids_test, edge_labels_test = edge_splitter_test.train_test_split(\n",
    "    p=0.1, method=\"global\", keep_connected=True\n",
    ")"
   ]
  },
  {
   "cell_type": "code",
   "execution_count": 106,
   "metadata": {},
   "outputs": [
    {
     "name": "stdout",
     "output_type": "stream",
     "text": [
      "** Sampled 2954 positive and 2954 negative edges. **\n"
     ]
    }
   ],
   "source": [
    "\n",
    "edge_splitter_train = EdgeSplitter(G_test)\n",
    "\n",
    "\n",
    "G_train, edge_ids_train, edge_labels_train = edge_splitter_train.train_test_split(\n",
    "    p=0.1, method=\"global\", keep_connected=True\n",
    ")"
   ]
  },
  {
   "cell_type": "code",
   "execution_count": 107,
   "metadata": {},
   "outputs": [],
   "source": [
    "epochs = 50\n"
   ]
  },
  {
   "cell_type": "code",
   "execution_count": 108,
   "metadata": {},
   "outputs": [
    {
     "name": "stdout",
     "output_type": "stream",
     "text": [
      "Using GCN (local pooling) filters...\n"
     ]
    }
   ],
   "source": [
    "train_gen = FullBatchLinkGenerator(G_train, method=\"gcn\")\n",
    "train_flow = train_gen.flow(edge_ids_train, edge_labels_train)"
   ]
  },
  {
   "cell_type": "code",
   "execution_count": 109,
   "metadata": {},
   "outputs": [
    {
     "name": "stdout",
     "output_type": "stream",
     "text": [
      "Using GCN (local pooling) filters...\n"
     ]
    }
   ],
   "source": [
    "test_gen = FullBatchLinkGenerator(G_test, method=\"gcn\")\n",
    "test_flow = train_gen.flow(edge_ids_test, edge_labels_test)"
   ]
  },
  {
   "cell_type": "code",
   "execution_count": 110,
   "metadata": {},
   "outputs": [],
   "source": [
    "gcn = GCN(\n",
    "    layer_sizes=[16, 16], activations=[\"relu\", \"relu\"], generator=train_gen, dropout=0.3\n",
    ")"
   ]
  },
  {
   "cell_type": "code",
   "execution_count": 111,
   "metadata": {},
   "outputs": [],
   "source": [
    "x_inp, x_out = gcn.in_out_tensors()"
   ]
  },
  {
   "cell_type": "code",
   "execution_count": 112,
   "metadata": {},
   "outputs": [],
   "source": [
    "prediction = LinkEmbedding(activation=\"relu\", method=\"ip\")(x_out)"
   ]
  },
  {
   "cell_type": "code",
   "execution_count": 114,
   "metadata": {},
   "outputs": [
    {
     "name": "stderr",
     "output_type": "stream",
     "text": [
      "c:\\Users\\Mohammadreza\\AppData\\Local\\Programs\\Python\\Python38\\lib\\site-packages\\keras\\optimizers\\optimizer_v2\\adam.py:110: UserWarning: The `lr` argument is deprecated, use `learning_rate` instead.\n",
      "  super(Adam, self).__init__(name, **kwargs)\n"
     ]
    }
   ],
   "source": [
    "model = keras.Model(inputs=x_inp, outputs=prediction)\n",
    "\n",
    "model.compile(\n",
    "    optimizer=keras.optimizers.Adam(lr=0.01),\n",
    "    loss=keras.losses.binary_crossentropy,\n",
    "    metrics=[\"binary_accuracy\"],\n",
    ")"
   ]
  },
  {
   "cell_type": "code",
   "execution_count": 115,
   "metadata": {},
   "outputs": [
    {
     "name": "stdout",
     "output_type": "stream",
     "text": [
      "1/1 [==============================] - 4s 4s/step - loss: 5.1830 - binary_accuracy: 0.5000\n",
      "1/1 [==============================] - 2s 2s/step - loss: 5.1787 - binary_accuracy: 0.5000\n",
      "\n",
      "Train Set Metrics of the initial (untrained) model:\n",
      "\tloss: 5.1830\n",
      "\tbinary_accuracy: 0.5000\n",
      "\n",
      "Test Set Metrics of the initial (untrained) model:\n",
      "\tloss: 5.1787\n",
      "\tbinary_accuracy: 0.5000\n"
     ]
    }
   ],
   "source": [
    "init_train_metrics = model.evaluate(train_flow)\n",
    "init_test_metrics = model.evaluate(test_flow)\n",
    "\n",
    "print(\"\\nTrain Set Metrics of the initial (untrained) model:\")\n",
    "for name, val in zip(model.metrics_names, init_train_metrics):\n",
    "    print(\"\\t{}: {:0.4f}\".format(name, val))\n",
    "\n",
    "print(\"\\nTest Set Metrics of the initial (untrained) model:\")\n",
    "for name, val in zip(model.metrics_names, init_test_metrics):\n",
    "    print(\"\\t{}: {:0.4f}\".format(name, val))"
   ]
  },
  {
   "cell_type": "code",
   "execution_count": 116,
   "metadata": {},
   "outputs": [
    {
     "name": "stderr",
     "output_type": "stream",
     "text": [
      "C:\\Users\\Mohammadreza\\AppData\\Local\\Temp\\ipykernel_26580\\2619516608.py:1: UserWarning: `Model.fit_generator` is deprecated and will be removed in a future version. Please use `Model.fit`, which supports generators.\n",
      "  history = model.fit_generator(\n"
     ]
    },
    {
     "name": "stdout",
     "output_type": "stream",
     "text": [
      "Epoch 1/50\n",
      "1/1 - 7s - loss: 5.1273 - binary_accuracy: 0.5000 - val_loss: 2.3340 - val_binary_accuracy: 0.5000 - 7s/epoch - 7s/step\n",
      "Epoch 2/50\n",
      "1/1 - 6s - loss: 2.3412 - binary_accuracy: 0.5000 - val_loss: 1.6455 - val_binary_accuracy: 0.5000 - 6s/epoch - 6s/step\n",
      "Epoch 3/50\n",
      "1/1 - 5s - loss: 1.6387 - binary_accuracy: 0.5000 - val_loss: 1.2449 - val_binary_accuracy: 0.5032 - 5s/epoch - 5s/step\n",
      "Epoch 4/50\n",
      "1/1 - 5s - loss: 1.2373 - binary_accuracy: 0.5032 - val_loss: 0.9623 - val_binary_accuracy: 0.5151 - 5s/epoch - 5s/step\n",
      "Epoch 5/50\n",
      "1/1 - 5s - loss: 0.9583 - binary_accuracy: 0.5152 - val_loss: 0.7475 - val_binary_accuracy: 0.5355 - 5s/epoch - 5s/step\n",
      "Epoch 6/50\n",
      "1/1 - 5s - loss: 0.7420 - binary_accuracy: 0.5416 - val_loss: 0.5797 - val_binary_accuracy: 0.6090 - 5s/epoch - 5s/step\n",
      "Epoch 7/50\n",
      "1/1 - 6s - loss: 0.5844 - binary_accuracy: 0.6119 - val_loss: 0.4543 - val_binary_accuracy: 0.7347 - 6s/epoch - 6s/step\n",
      "Epoch 8/50\n",
      "1/1 - 6s - loss: 0.4556 - binary_accuracy: 0.7332 - val_loss: 0.3788 - val_binary_accuracy: 0.8367 - 6s/epoch - 6s/step\n",
      "Epoch 9/50\n",
      "1/1 - 6s - loss: 0.3734 - binary_accuracy: 0.8353 - val_loss: 0.3574 - val_binary_accuracy: 0.9034 - 6s/epoch - 6s/step\n",
      "Epoch 10/50\n",
      "1/1 - 5s - loss: 0.3532 - binary_accuracy: 0.8927 - val_loss: 0.3854 - val_binary_accuracy: 0.9465 - 5s/epoch - 5s/step\n",
      "Epoch 11/50\n",
      "1/1 - 6s - loss: 0.3840 - binary_accuracy: 0.9281 - val_loss: 0.4370 - val_binary_accuracy: 0.9558 - 6s/epoch - 6s/step\n",
      "Epoch 12/50\n",
      "1/1 - 5s - loss: 0.4222 - binary_accuracy: 0.9523 - val_loss: 0.5007 - val_binary_accuracy: 0.9619 - 5s/epoch - 5s/step\n",
      "Epoch 13/50\n",
      "1/1 - 6s - loss: 0.4531 - binary_accuracy: 0.9484 - val_loss: 0.5405 - val_binary_accuracy: 0.9590 - 6s/epoch - 6s/step\n",
      "Epoch 14/50\n",
      "1/1 - 5s - loss: 0.5081 - binary_accuracy: 0.9198 - val_loss: 0.5782 - val_binary_accuracy: 0.9344 - 5s/epoch - 5s/step\n",
      "Epoch 15/50\n",
      "1/1 - 5s - loss: 0.5402 - binary_accuracy: 0.9023 - val_loss: 0.6022 - val_binary_accuracy: 0.8856 - 5s/epoch - 5s/step\n",
      "Epoch 16/50\n",
      "1/1 - 5s - loss: 0.5485 - binary_accuracy: 0.8822 - val_loss: 0.6167 - val_binary_accuracy: 0.8547 - 5s/epoch - 5s/step\n",
      "Epoch 17/50\n",
      "1/1 - 5s - loss: 0.5626 - binary_accuracy: 0.8714 - val_loss: 0.6170 - val_binary_accuracy: 0.8465 - 5s/epoch - 5s/step\n",
      "Epoch 18/50\n",
      "1/1 - 5s - loss: 0.5464 - binary_accuracy: 0.8769 - val_loss: 0.6040 - val_binary_accuracy: 0.8515 - 5s/epoch - 5s/step\n",
      "Epoch 19/50\n",
      "1/1 - 5s - loss: 0.5296 - binary_accuracy: 0.8839 - val_loss: 0.5879 - val_binary_accuracy: 0.8651 - 5s/epoch - 5s/step\n",
      "Epoch 20/50\n",
      "1/1 - 5s - loss: 0.5187 - binary_accuracy: 0.8929 - val_loss: 0.5640 - val_binary_accuracy: 0.8818 - 5s/epoch - 5s/step\n",
      "Epoch 21/50\n",
      "1/1 - 5s - loss: 0.4821 - binary_accuracy: 0.8995 - val_loss: 0.5405 - val_binary_accuracy: 0.8987 - 5s/epoch - 5s/step\n",
      "Epoch 22/50\n",
      "1/1 - 5s - loss: 0.4683 - binary_accuracy: 0.9140 - val_loss: 0.5198 - val_binary_accuracy: 0.9185 - 5s/epoch - 5s/step\n",
      "Epoch 23/50\n",
      "1/1 - 5s - loss: 0.4375 - binary_accuracy: 0.9342 - val_loss: 0.4917 - val_binary_accuracy: 0.9336 - 5s/epoch - 5s/step\n",
      "Epoch 24/50\n",
      "1/1 - 5s - loss: 0.4054 - binary_accuracy: 0.9384 - val_loss: 0.4645 - val_binary_accuracy: 0.9432 - 5s/epoch - 5s/step\n",
      "Epoch 25/50\n",
      "1/1 - 5s - loss: 0.3745 - binary_accuracy: 0.9521 - val_loss: 0.4300 - val_binary_accuracy: 0.9525 - 5s/epoch - 5s/step\n",
      "Epoch 26/50\n",
      "1/1 - 5s - loss: 0.3663 - binary_accuracy: 0.9563 - val_loss: 0.4071 - val_binary_accuracy: 0.9567 - 5s/epoch - 5s/step\n",
      "Epoch 27/50\n",
      "1/1 - 5s - loss: 0.3367 - binary_accuracy: 0.9672 - val_loss: 0.3788 - val_binary_accuracy: 0.9601 - 5s/epoch - 5s/step\n",
      "Epoch 28/50\n",
      "1/1 - 5s - loss: 0.2963 - binary_accuracy: 0.9702 - val_loss: 0.3478 - val_binary_accuracy: 0.9625 - 5s/epoch - 5s/step\n",
      "Epoch 29/50\n",
      "1/1 - 5s - loss: 0.2967 - binary_accuracy: 0.9739 - val_loss: 0.3257 - val_binary_accuracy: 0.9627 - 5s/epoch - 5s/step\n",
      "Epoch 30/50\n",
      "1/1 - 5s - loss: 0.2662 - binary_accuracy: 0.9739 - val_loss: 0.3155 - val_binary_accuracy: 0.9618 - 5s/epoch - 5s/step\n",
      "Epoch 31/50\n",
      "1/1 - 5s - loss: 0.2639 - binary_accuracy: 0.9726 - val_loss: 0.2971 - val_binary_accuracy: 0.9586 - 5s/epoch - 5s/step\n",
      "Epoch 32/50\n",
      "1/1 - 5s - loss: 0.2429 - binary_accuracy: 0.9749 - val_loss: 0.2887 - val_binary_accuracy: 0.9569 - 5s/epoch - 5s/step\n",
      "Epoch 33/50\n",
      "1/1 - 5s - loss: 0.2409 - binary_accuracy: 0.9749 - val_loss: 0.2796 - val_binary_accuracy: 0.9542 - 5s/epoch - 5s/step\n",
      "Epoch 34/50\n",
      "1/1 - 5s - loss: 0.2341 - binary_accuracy: 0.9709 - val_loss: 0.2753 - val_binary_accuracy: 0.9517 - 5s/epoch - 5s/step\n",
      "Epoch 35/50\n",
      "1/1 - 5s - loss: 0.2265 - binary_accuracy: 0.9678 - val_loss: 0.2686 - val_binary_accuracy: 0.9494 - 5s/epoch - 5s/step\n",
      "Epoch 36/50\n",
      "1/1 - 5s - loss: 0.2305 - binary_accuracy: 0.9683 - val_loss: 0.2671 - val_binary_accuracy: 0.9478 - 5s/epoch - 5s/step\n",
      "Epoch 37/50\n",
      "1/1 - 6s - loss: 0.2220 - binary_accuracy: 0.9655 - val_loss: 0.2658 - val_binary_accuracy: 0.9465 - 6s/epoch - 6s/step\n",
      "Epoch 38/50\n",
      "1/1 - 6s - loss: 0.2246 - binary_accuracy: 0.9629 - val_loss: 0.2642 - val_binary_accuracy: 0.9459 - 6s/epoch - 6s/step\n",
      "Epoch 39/50\n",
      "1/1 - 5s - loss: 0.2142 - binary_accuracy: 0.9656 - val_loss: 0.2610 - val_binary_accuracy: 0.9453 - 5s/epoch - 5s/step\n",
      "Epoch 40/50\n",
      "1/1 - 5s - loss: 0.2089 - binary_accuracy: 0.9673 - val_loss: 0.2582 - val_binary_accuracy: 0.9452 - 5s/epoch - 5s/step\n",
      "Epoch 41/50\n",
      "1/1 - 5s - loss: 0.2151 - binary_accuracy: 0.9660 - val_loss: 0.2569 - val_binary_accuracy: 0.9452 - 5s/epoch - 5s/step\n",
      "Epoch 42/50\n",
      "1/1 - 5s - loss: 0.2013 - binary_accuracy: 0.9719 - val_loss: 0.2555 - val_binary_accuracy: 0.9456 - 5s/epoch - 5s/step\n",
      "Epoch 43/50\n",
      "1/1 - 5s - loss: 0.2039 - binary_accuracy: 0.9709 - val_loss: 0.2544 - val_binary_accuracy: 0.9459 - 5s/epoch - 5s/step\n",
      "Epoch 44/50\n",
      "1/1 - 5s - loss: 0.2031 - binary_accuracy: 0.9667 - val_loss: 0.2559 - val_binary_accuracy: 0.9475 - 5s/epoch - 5s/step\n",
      "Epoch 45/50\n",
      "1/1 - 5s - loss: 0.1898 - binary_accuracy: 0.9695 - val_loss: 0.2576 - val_binary_accuracy: 0.9473 - 5s/epoch - 5s/step\n",
      "Epoch 46/50\n",
      "1/1 - 6s - loss: 0.1922 - binary_accuracy: 0.9755 - val_loss: 0.2597 - val_binary_accuracy: 0.9490 - 6s/epoch - 6s/step\n",
      "Epoch 47/50\n",
      "1/1 - 6s - loss: 0.1846 - binary_accuracy: 0.9748 - val_loss: 0.2625 - val_binary_accuracy: 0.9513 - 6s/epoch - 6s/step\n",
      "Epoch 48/50\n",
      "1/1 - 6s - loss: 0.1822 - binary_accuracy: 0.9775 - val_loss: 0.2703 - val_binary_accuracy: 0.9517 - 6s/epoch - 6s/step\n",
      "Epoch 49/50\n",
      "1/1 - 6s - loss: 0.1806 - binary_accuracy: 0.9794 - val_loss: 0.2694 - val_binary_accuracy: 0.9526 - 6s/epoch - 6s/step\n",
      "Epoch 50/50\n",
      "1/1 - 6s - loss: 0.1823 - binary_accuracy: 0.9792 - val_loss: 0.2706 - val_binary_accuracy: 0.9534 - 6s/epoch - 6s/step\n"
     ]
    }
   ],
   "source": [
    "history = model.fit_generator(\n",
    "    train_flow, epochs=epochs, validation_data=test_flow, verbose=2, shuffle=False\n",
    ")"
   ]
  },
  {
   "cell_type": "code",
   "execution_count": 117,
   "metadata": {},
   "outputs": [
    {
     "data": {
      "image/png": "[encoded data removed]",
      "text/plain": [
       "<Figure size 504x576 with 2 Axes>"
      ]
     },
     "metadata": {
      "needs_background": "light"
     },
     "output_type": "display_data"
    }
   ],
   "source": [
    "sg.utils.plot_history(history)"
   ]
  },
  {
   "cell_type": "code",
   "execution_count": 118,
   "metadata": {},
   "outputs": [
    {
     "name": "stdout",
     "output_type": "stream",
     "text": [
      "1/1 [==============================] - 2s 2s/step - loss: 0.1600 - binary_accuracy: 0.9866\n",
      "1/1 [==============================] - 2s 2s/step - loss: 0.2706 - binary_accuracy: 0.9534\n",
      "\n",
      "Train Set Metrics of the trained model:\n",
      "\tloss: 0.1600\n",
      "\tbinary_accuracy: 0.9866\n",
      "\n",
      "Test Set Metrics of the trained model:\n",
      "\tloss: 0.2706\n",
      "\tbinary_accuracy: 0.9534\n"
     ]
    }
   ],
   "source": [
    "train_metrics = model.evaluate(train_flow)\n",
    "test_metrics = model.evaluate(test_flow)\n",
    "\n",
    "print(\"\\nTrain Set Metrics of the trained model:\")\n",
    "for name, val in zip(model.metrics_names, train_metrics):\n",
    "    print(\"\\t{}: {:0.4f}\".format(name, val))\n",
    "\n",
    "print(\"\\nTest Set Metrics of the trained model:\")\n",
    "for name, val in zip(model.metrics_names, test_metrics):\n",
    "    print(\"\\t{}: {:0.4f}\".format(name, val))"
   ]
  }
 ],
 "metadata": {
  "kernelspec": {
   "display_name": "Python 3.8.10 64-bit",
   "language": "python",
   "name": "python3"
  },
  "language_info": {
   "codemirror_mode": {
    "name": "ipython",
    "version": 3
   },
   "file_extension": ".py",
   "mimetype": "text/x-python",
   "name": "python",
   "nbconvert_exporter": "python",
   "pygments_lexer": "ipython3",
   "version": "3.8.10"
  },
  "orig_nbformat": 4,
  "vscode": {
   "interpreter": {
    "hash": "aedebff9cdfeb28256fcd72da440946edf647c4934b8f59f3d94e23f51d9116d"
   }
  }
 },
 "nbformat": 4,
 "nbformat_minor": 2
}
