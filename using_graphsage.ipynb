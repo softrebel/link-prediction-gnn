{
 "cells": [
  {
   "cell_type": "code",
   "execution_count": 1,
   "metadata": {},
   "outputs": [],
   "source": [
    "import stellargraph as sg\n",
    "from stellargraph.data import EdgeSplitter\n",
    "from stellargraph.mapper import GraphSAGELinkGenerator\n",
    "from stellargraph.layer import GraphSAGE, HinSAGE, link_classification\n",
    "\n",
    "from tensorflow import keras\n",
    "from sklearn import preprocessing, feature_extraction, model_selection\n",
    "\n",
    "from stellargraph import globalvar\n",
    "from stellargraph import datasets\n",
    "from IPython.display import display, HTML\n",
    "%matplotlib inline"
   ]
  },
  {
   "cell_type": "code",
   "execution_count": 2,
   "metadata": {},
   "outputs": [],
   "source": [
    "from utils import load_twitter_graph_with_feature\n",
    "\n",
    "G=load_twitter_graph_with_feature()"
   ]
  },
  {
   "cell_type": "code",
   "execution_count": 3,
   "metadata": {},
   "outputs": [
    {
     "name": "stdout",
     "output_type": "stream",
     "text": [
      "StellarGraph: Undirected multigraph\n",
      " Nodes: 23370, Edges: 32831\n",
      "\n",
      " Node types:\n",
      "  default: [23370]\n",
      "    Features: float32 vector, length 23370\n",
      "    Edge types: default-default->default\n",
      "\n",
      " Edge types:\n",
      "    default-default->default: [32831]\n",
      "        Weights: all 1 (default)\n",
      "        Features: none\n"
     ]
    }
   ],
   "source": [
    "print(G.info())"
   ]
  },
  {
   "cell_type": "code",
   "execution_count": 4,
   "metadata": {},
   "outputs": [
    {
     "name": "stdout",
     "output_type": "stream",
     "text": [
      "** Sampled 3283 positive and 3283 negative edges. **\n"
     ]
    }
   ],
   "source": [
    "\n",
    "edge_splitter_test = EdgeSplitter(G)\n",
    "\n",
    "\n",
    "G_test, edge_ids_test, edge_labels_test = edge_splitter_test.train_test_split(\n",
    "    p=0.1, method=\"global\", keep_connected=True\n",
    ")"
   ]
  },
  {
   "cell_type": "code",
   "execution_count": 5,
   "metadata": {},
   "outputs": [
    {
     "name": "stdout",
     "output_type": "stream",
     "text": [
      "** Sampled 2954 positive and 2954 negative edges. **\n"
     ]
    }
   ],
   "source": [
    "\n",
    "edge_splitter_train = EdgeSplitter(G_test)\n",
    "\n",
    "\n",
    "G_train, edge_ids_train, edge_labels_train = edge_splitter_train.train_test_split(\n",
    "    p=0.1, method=\"global\", keep_connected=True\n",
    ")"
   ]
  },
  {
   "cell_type": "code",
   "execution_count": 6,
   "metadata": {},
   "outputs": [
    {
     "name": "stdout",
     "output_type": "stream",
     "text": [
      "StellarGraph: Undirected multigraph\n",
      " Nodes: 23370, Edges: 26594\n",
      "\n",
      " Node types:\n",
      "  default: [23370]\n",
      "    Features: float32 vector, length 23370\n",
      "    Edge types: default-default->default\n",
      "\n",
      " Edge types:\n",
      "    default-default->default: [26594]\n",
      "        Weights: all 1 (default)\n",
      "        Features: none\n"
     ]
    }
   ],
   "source": [
    "print(G_train.info())"
   ]
  },
  {
   "cell_type": "code",
   "execution_count": 7,
   "metadata": {},
   "outputs": [
    {
     "name": "stdout",
     "output_type": "stream",
     "text": [
      "StellarGraph: Undirected multigraph\n",
      " Nodes: 23370, Edges: 29548\n",
      "\n",
      " Node types:\n",
      "  default: [23370]\n",
      "    Features: float32 vector, length 23370\n",
      "    Edge types: default-default->default\n",
      "\n",
      " Edge types:\n",
      "    default-default->default: [29548]\n",
      "        Weights: all 1 (default)\n",
      "        Features: none\n"
     ]
    }
   ],
   "source": [
    "print(G_test.info())"
   ]
  },
  {
   "cell_type": "code",
   "execution_count": 8,
   "metadata": {},
   "outputs": [],
   "source": [
    "batch_size = 20\n",
    "epochs = 50"
   ]
  },
  {
   "cell_type": "code",
   "execution_count": 9,
   "metadata": {},
   "outputs": [],
   "source": [
    "num_samples = [20, 10]"
   ]
  },
  {
   "cell_type": "code",
   "execution_count": 10,
   "metadata": {},
   "outputs": [],
   "source": [
    "train_gen = GraphSAGELinkGenerator(G_train, batch_size, num_samples)\n",
    "train_flow = train_gen.flow(edge_ids_train, edge_labels_train, shuffle=True)"
   ]
  },
  {
   "cell_type": "code",
   "execution_count": 11,
   "metadata": {},
   "outputs": [],
   "source": [
    "test_gen = GraphSAGELinkGenerator(G_test, batch_size, num_samples)\n",
    "test_flow = test_gen.flow(edge_ids_test, edge_labels_test)"
   ]
  },
  {
   "cell_type": "code",
   "execution_count": 12,
   "metadata": {},
   "outputs": [],
   "source": [
    "layer_sizes = [20, 20]\n",
    "graphsage = GraphSAGE(\n",
    "    layer_sizes=layer_sizes, generator=train_gen, bias=True, dropout=0.3\n",
    ")"
   ]
  },
  {
   "cell_type": "code",
   "execution_count": 13,
   "metadata": {},
   "outputs": [],
   "source": [
    "\n",
    "x_inp, x_out = graphsage.in_out_tensors()"
   ]
  },
  {
   "cell_type": "code",
   "execution_count": 14,
   "metadata": {},
   "outputs": [
    {
     "name": "stdout",
     "output_type": "stream",
     "text": [
      "link_classification: using 'ip' method to combine node embeddings into edge embeddings\n"
     ]
    }
   ],
   "source": [
    "prediction = link_classification(\n",
    "    output_dim=1, output_act=\"relu\", edge_embedding_method=\"ip\"\n",
    ")(x_out)"
   ]
  },
  {
   "cell_type": "code",
   "execution_count": 15,
   "metadata": {},
   "outputs": [
    {
     "name": "stderr",
     "output_type": "stream",
     "text": [
      "c:\\Users\\Mohammadreza\\AppData\\Local\\Programs\\Python\\Python38\\lib\\site-packages\\keras\\optimizers\\optimizer_v2\\adam.py:110: UserWarning: The `lr` argument is deprecated, use `learning_rate` instead.\n",
      "  super(Adam, self).__init__(name, **kwargs)\n"
     ]
    }
   ],
   "source": [
    "model = keras.Model(inputs=x_inp, outputs=prediction)\n",
    "\n",
    "model.compile(\n",
    "    optimizer=keras.optimizers.Adam(lr=1e-3),\n",
    "    loss=keras.losses.binary_crossentropy,\n",
    "    metrics=[\"binary_accuracy\"],\n",
    ")"
   ]
  },
  {
   "cell_type": "code",
   "execution_count": 16,
   "metadata": {},
   "outputs": [
    {
     "name": "stdout",
     "output_type": "stream",
     "text": [
      "296/296 [==============================] - 113s 382ms/step - loss: 0.7675 - binary_accuracy: 0.5460\n",
      "329/329 [==============================] - 127s 386ms/step - loss: 0.7432 - binary_accuracy: 0.5577\n",
      "\n",
      "Train Set Metrics of the initial (untrained) model:\n",
      "\tloss: 0.7675\n",
      "\tbinary_accuracy: 0.5460\n",
      "\n",
      "Test Set Metrics of the initial (untrained) model:\n",
      "\tloss: 0.7432\n",
      "\tbinary_accuracy: 0.5577\n"
     ]
    }
   ],
   "source": [
    "init_train_metrics = model.evaluate(train_flow)\n",
    "init_test_metrics = model.evaluate(test_flow)\n",
    "\n",
    "print(\"\\nTrain Set Metrics of the initial (untrained) model:\")\n",
    "for name, val in zip(model.metrics_names, init_train_metrics):\n",
    "    print(\"\\t{}: {:0.4f}\".format(name, val))\n",
    "\n",
    "print(\"\\nTest Set Metrics of the initial (untrained) model:\")\n",
    "for name, val in zip(model.metrics_names, init_test_metrics):\n",
    "    print(\"\\t{}: {:0.4f}\".format(name, val))"
   ]
  },
  {
   "cell_type": "code",
   "execution_count": 17,
   "metadata": {},
   "outputs": [
    {
     "name": "stderr",
     "output_type": "stream",
     "text": [
      "C:\\Users\\Mohammadreza\\AppData\\Local\\Temp\\ipykernel_27744\\3419235303.py:1: UserWarning: `Model.fit_generator` is deprecated and will be removed in a future version. Please use `Model.fit`, which supports generators.\n",
      "  history = model.fit_generator(train_flow, epochs=epochs, validation_data=test_flow, verbose=2)\n"
     ]
    },
    {
     "name": "stdout",
     "output_type": "stream",
     "text": [
      "Epoch 1/50\n",
      "296/296 - 371s - loss: 0.5532 - binary_accuracy: 0.7527 - val_loss: 0.5361 - val_binary_accuracy: 0.7007 - 371s/epoch - 1s/step\n",
      "Epoch 2/50\n",
      "296/296 - 373s - loss: 0.3422 - binary_accuracy: 0.8932 - val_loss: 0.4344 - val_binary_accuracy: 0.8242 - 373s/epoch - 1s/step\n",
      "Epoch 3/50\n",
      "296/296 - 405s - loss: 0.2608 - binary_accuracy: 0.9247 - val_loss: 0.4471 - val_binary_accuracy: 0.8450 - 405s/epoch - 1s/step\n",
      "Epoch 4/50\n",
      "296/296 - 383s - loss: 0.2191 - binary_accuracy: 0.9362 - val_loss: 0.4360 - val_binary_accuracy: 0.8503 - 383s/epoch - 1s/step\n",
      "Epoch 5/50\n",
      "296/296 - 370s - loss: 0.1864 - binary_accuracy: 0.9509 - val_loss: 0.4460 - val_binary_accuracy: 0.8532 - 370s/epoch - 1s/step\n",
      "Epoch 6/50\n",
      "296/296 - 395s - loss: 0.1685 - binary_accuracy: 0.9597 - val_loss: 0.4276 - val_binary_accuracy: 0.8503 - 395s/epoch - 1s/step\n",
      "Epoch 7/50\n",
      "296/296 - 399s - loss: 0.1547 - binary_accuracy: 0.9599 - val_loss: 0.4348 - val_binary_accuracy: 0.8547 - 399s/epoch - 1s/step\n",
      "Epoch 8/50\n",
      "296/296 - 398s - loss: 0.1427 - binary_accuracy: 0.9650 - val_loss: 0.4489 - val_binary_accuracy: 0.8542 - 398s/epoch - 1s/step\n",
      "Epoch 9/50\n",
      "296/296 - 399s - loss: 0.1353 - binary_accuracy: 0.9687 - val_loss: 0.4496 - val_binary_accuracy: 0.8541 - 399s/epoch - 1s/step\n",
      "Epoch 10/50\n",
      "296/296 - 398s - loss: 0.1288 - binary_accuracy: 0.9727 - val_loss: 0.4581 - val_binary_accuracy: 0.8610 - 398s/epoch - 1s/step\n",
      "Epoch 11/50\n",
      "296/296 - 392s - loss: 0.1232 - binary_accuracy: 0.9727 - val_loss: 0.4842 - val_binary_accuracy: 0.8547 - 392s/epoch - 1s/step\n",
      "Epoch 12/50\n",
      "296/296 - 387s - loss: 0.1184 - binary_accuracy: 0.9746 - val_loss: 0.4718 - val_binary_accuracy: 0.8541 - 387s/epoch - 1s/step\n",
      "Epoch 13/50\n",
      "296/296 - 401s - loss: 0.1143 - binary_accuracy: 0.9744 - val_loss: 0.4679 - val_binary_accuracy: 0.8573 - 401s/epoch - 1s/step\n",
      "Epoch 14/50\n",
      "296/296 - 395s - loss: 0.1063 - binary_accuracy: 0.9790 - val_loss: 0.4926 - val_binary_accuracy: 0.8602 - 395s/epoch - 1s/step\n",
      "Epoch 15/50\n",
      "296/296 - 395s - loss: 0.1065 - binary_accuracy: 0.9785 - val_loss: 0.4835 - val_binary_accuracy: 0.8588 - 395s/epoch - 1s/step\n",
      "Epoch 16/50\n",
      "296/296 - 392s - loss: 0.1048 - binary_accuracy: 0.9777 - val_loss: 0.5055 - val_binary_accuracy: 0.8558 - 392s/epoch - 1s/step\n",
      "Epoch 17/50\n",
      "296/296 - 397s - loss: 0.1017 - binary_accuracy: 0.9797 - val_loss: 0.5117 - val_binary_accuracy: 0.8570 - 397s/epoch - 1s/step\n",
      "Epoch 18/50\n",
      "296/296 - 397s - loss: 0.0988 - binary_accuracy: 0.9765 - val_loss: 0.4960 - val_binary_accuracy: 0.8600 - 397s/epoch - 1s/step\n",
      "Epoch 19/50\n",
      "296/296 - 394s - loss: 0.0954 - binary_accuracy: 0.9814 - val_loss: 0.5002 - val_binary_accuracy: 0.8585 - 394s/epoch - 1s/step\n",
      "Epoch 20/50\n",
      "296/296 - 389s - loss: 0.0925 - binary_accuracy: 0.9816 - val_loss: 0.5018 - val_binary_accuracy: 0.8610 - 389s/epoch - 1s/step\n",
      "Epoch 21/50\n",
      "296/296 - 382s - loss: 0.0973 - binary_accuracy: 0.9805 - val_loss: 0.5088 - val_binary_accuracy: 0.8620 - 382s/epoch - 1s/step\n",
      "Epoch 22/50\n",
      "296/296 - 368s - loss: 0.0937 - binary_accuracy: 0.9799 - val_loss: 0.4859 - val_binary_accuracy: 0.8628 - 368s/epoch - 1s/step\n",
      "Epoch 23/50\n",
      "296/296 - 369s - loss: 0.0859 - binary_accuracy: 0.9832 - val_loss: 0.4703 - val_binary_accuracy: 0.8616 - 369s/epoch - 1s/step\n",
      "Epoch 24/50\n",
      "296/296 - 390s - loss: 0.0910 - binary_accuracy: 0.9821 - val_loss: 0.4817 - val_binary_accuracy: 0.8613 - 390s/epoch - 1s/step\n",
      "Epoch 25/50\n",
      "296/296 - 362s - loss: 0.0883 - binary_accuracy: 0.9822 - val_loss: 0.4717 - val_binary_accuracy: 0.8590 - 362s/epoch - 1s/step\n",
      "Epoch 26/50\n",
      "296/296 - 357s - loss: 0.0831 - binary_accuracy: 0.9851 - val_loss: 0.4962 - val_binary_accuracy: 0.8579 - 357s/epoch - 1s/step\n",
      "Epoch 27/50\n",
      "296/296 - 357s - loss: 0.0822 - binary_accuracy: 0.9839 - val_loss: 0.4994 - val_binary_accuracy: 0.8593 - 357s/epoch - 1s/step\n",
      "Epoch 28/50\n",
      "296/296 - 356s - loss: 0.0850 - binary_accuracy: 0.9836 - val_loss: 0.5251 - val_binary_accuracy: 0.8610 - 356s/epoch - 1s/step\n",
      "Epoch 29/50\n",
      "296/296 - 375s - loss: 0.0872 - binary_accuracy: 0.9846 - val_loss: 0.5139 - val_binary_accuracy: 0.8597 - 375s/epoch - 1s/step\n",
      "Epoch 30/50\n",
      "296/296 - 392s - loss: 0.0746 - binary_accuracy: 0.9871 - val_loss: 0.4974 - val_binary_accuracy: 0.8570 - 392s/epoch - 1s/step\n",
      "Epoch 31/50\n",
      "296/296 - 363s - loss: 0.0772 - binary_accuracy: 0.9846 - val_loss: 0.5058 - val_binary_accuracy: 0.8591 - 363s/epoch - 1s/step\n",
      "Epoch 32/50\n",
      "296/296 - 358s - loss: 0.0765 - binary_accuracy: 0.9856 - val_loss: 0.5242 - val_binary_accuracy: 0.8555 - 358s/epoch - 1s/step\n",
      "Epoch 33/50\n",
      "296/296 - 357s - loss: 0.0741 - binary_accuracy: 0.9890 - val_loss: 0.5117 - val_binary_accuracy: 0.8544 - 357s/epoch - 1s/step\n",
      "Epoch 34/50\n",
      "296/296 - 357s - loss: 0.0844 - binary_accuracy: 0.9827 - val_loss: 0.5006 - val_binary_accuracy: 0.8549 - 357s/epoch - 1s/step\n",
      "Epoch 35/50\n",
      "296/296 - 358s - loss: 0.0725 - binary_accuracy: 0.9878 - val_loss: 0.4581 - val_binary_accuracy: 0.8488 - 358s/epoch - 1s/step\n",
      "Epoch 36/50\n",
      "296/296 - 382s - loss: 0.0782 - binary_accuracy: 0.9851 - val_loss: 0.5027 - val_binary_accuracy: 0.8574 - 382s/epoch - 1s/step\n",
      "Epoch 37/50\n",
      "296/296 - 428s - loss: 0.0697 - binary_accuracy: 0.9883 - val_loss: 0.4948 - val_binary_accuracy: 0.8578 - 428s/epoch - 1s/step\n",
      "Epoch 38/50\n",
      "296/296 - 405s - loss: 0.0718 - binary_accuracy: 0.9861 - val_loss: 0.5068 - val_binary_accuracy: 0.8579 - 405s/epoch - 1s/step\n",
      "Epoch 39/50\n",
      "296/296 - 392s - loss: 0.0692 - binary_accuracy: 0.9865 - val_loss: 0.5269 - val_binary_accuracy: 0.8579 - 392s/epoch - 1s/step\n",
      "Epoch 40/50\n",
      "296/296 - 371s - loss: 0.0663 - binary_accuracy: 0.9860 - val_loss: 0.5125 - val_binary_accuracy: 0.8564 - 371s/epoch - 1s/step\n",
      "Epoch 41/50\n",
      "296/296 - 385s - loss: 0.0669 - binary_accuracy: 0.9875 - val_loss: 0.4746 - val_binary_accuracy: 0.8553 - 385s/epoch - 1s/step\n",
      "Epoch 42/50\n",
      "296/296 - 406s - loss: 0.0659 - binary_accuracy: 0.9885 - val_loss: 0.5171 - val_binary_accuracy: 0.8567 - 406s/epoch - 1s/step\n",
      "Epoch 43/50\n",
      "296/296 - 398s - loss: 0.0647 - binary_accuracy: 0.9870 - val_loss: 0.4836 - val_binary_accuracy: 0.8590 - 398s/epoch - 1s/step\n",
      "Epoch 44/50\n",
      "296/296 - 374s - loss: 0.0625 - binary_accuracy: 0.9885 - val_loss: 0.5330 - val_binary_accuracy: 0.8574 - 374s/epoch - 1s/step\n",
      "Epoch 45/50\n",
      "296/296 - 362s - loss: 0.0639 - binary_accuracy: 0.9866 - val_loss: 0.5426 - val_binary_accuracy: 0.8593 - 362s/epoch - 1s/step\n",
      "Epoch 46/50\n",
      "296/296 - 378s - loss: 0.0613 - binary_accuracy: 0.9878 - val_loss: 0.4926 - val_binary_accuracy: 0.8574 - 378s/epoch - 1s/step\n",
      "Epoch 47/50\n",
      "296/296 - 401s - loss: 0.0638 - binary_accuracy: 0.9870 - val_loss: 0.5219 - val_binary_accuracy: 0.8530 - 401s/epoch - 1s/step\n",
      "Epoch 48/50\n",
      "296/296 - 384s - loss: 0.0633 - binary_accuracy: 0.9870 - val_loss: 0.5176 - val_binary_accuracy: 0.8538 - 384s/epoch - 1s/step\n",
      "Epoch 49/50\n",
      "296/296 - 397s - loss: 0.0634 - binary_accuracy: 0.9863 - val_loss: 0.5472 - val_binary_accuracy: 0.8515 - 397s/epoch - 1s/step\n",
      "Epoch 50/50\n",
      "296/296 - 390s - loss: 0.1037 - binary_accuracy: 0.9778 - val_loss: 0.5069 - val_binary_accuracy: 0.8533 - 390s/epoch - 1s/step\n"
     ]
    }
   ],
   "source": [
    "history = model.fit_generator(train_flow, epochs=epochs, validation_data=test_flow, verbose=2)"
   ]
  },
  {
   "cell_type": "code",
   "execution_count": 18,
   "metadata": {},
   "outputs": [
    {
     "data": {
      "image/png": "[encoded data removed]",
      "text/plain": [
       "<Figure size 504x576 with 2 Axes>"
      ]
     },
     "metadata": {
      "needs_background": "light"
     },
     "output_type": "display_data"
    }
   ],
   "source": [
    "sg.utils.plot_history(history)"
   ]
  },
  {
   "cell_type": "code",
   "execution_count": 19,
   "metadata": {},
   "outputs": [
    {
     "name": "stdout",
     "output_type": "stream",
     "text": [
      "296/296 [==============================] - 117s 394ms/step - loss: 0.0482 - binary_accuracy: 0.9959\n",
      "329/329 [==============================] - 130s 394ms/step - loss: 0.5161 - binary_accuracy: 0.8532\n",
      "\n",
      "Train Set Metrics of the trained model:\n",
      "\tloss: 0.0482\n",
      "\tbinary_accuracy: 0.9959\n",
      "\n",
      "Test Set Metrics of the trained model:\n",
      "\tloss: 0.5161\n",
      "\tbinary_accuracy: 0.8532\n"
     ]
    }
   ],
   "source": [
    "train_metrics = model.evaluate(train_flow)\n",
    "test_metrics = model.evaluate(test_flow)\n",
    "\n",
    "print(\"\\nTrain Set Metrics of the trained model:\")\n",
    "for name, val in zip(model.metrics_names, train_metrics):\n",
    "    print(\"\\t{}: {:0.4f}\".format(name, val))\n",
    "\n",
    "print(\"\\nTest Set Metrics of the trained model:\")\n",
    "for name, val in zip(model.metrics_names, test_metrics):\n",
    "    print(\"\\t{}: {:0.4f}\".format(name, val))"
   ]
  }
 ],
 "metadata": {
  "kernelspec": {
   "display_name": "Python 3.8.10 64-bit",
   "language": "python",
   "name": "python3"
  },
  "language_info": {
   "codemirror_mode": {
    "name": "ipython",
    "version": 3
   },
   "file_extension": ".py",
   "mimetype": "text/x-python",
   "name": "python",
   "nbconvert_exporter": "python",
   "pygments_lexer": "ipython3",
   "version": "3.8.10"
  },
  "orig_nbformat": 4,
  "vscode": {
   "interpreter": {
    "hash": "aedebff9cdfeb28256fcd72da440946edf647c4934b8f59f3d94e23f51d9116d"
   }
  }
 },
 "nbformat": 4,
 "nbformat_minor": 2
}
